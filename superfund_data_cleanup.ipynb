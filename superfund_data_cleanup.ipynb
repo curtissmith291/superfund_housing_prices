{
 "cells": [
  {
   "cell_type": "code",
   "execution_count": 1,
   "metadata": {},
   "outputs": [],
   "source": [
    "import pandas as pd\n",
    "from geopy import Nominatim\n",
    "import numpy as np"
   ]
  },
  {
   "cell_type": "code",
   "execution_count": 2,
   "metadata": {},
   "outputs": [],
   "source": [
    "superfund_df = pd.read_csv('resources/superfund_sites.csv')"
   ]
  },
  {
   "cell_type": "code",
   "execution_count": 3,
   "metadata": {},
   "outputs": [
    {
     "data": {
      "text/html": [
       "<div>\n",
       "<style scoped>\n",
       "    .dataframe tbody tr th:only-of-type {\n",
       "        vertical-align: middle;\n",
       "    }\n",
       "\n",
       "    .dataframe tbody tr th {\n",
       "        vertical-align: top;\n",
       "    }\n",
       "\n",
       "    .dataframe thead th {\n",
       "        text-align: right;\n",
       "    }\n",
       "</style>\n",
       "<table border=\"1\" class=\"dataframe\">\n",
       "  <thead>\n",
       "    <tr style=\"text-align: right;\">\n",
       "      <th></th>\n",
       "      <th>RG</th>\n",
       "      <th>SITE_ID</th>\n",
       "      <th>SITE_EPA_ID</th>\n",
       "      <th>SITE_NAME</th>\n",
       "      <th>SITE_STRT_ADRS1</th>\n",
       "      <th>SITE_STRT_ADRS2</th>\n",
       "      <th>SITE_CITY_NAME</th>\n",
       "      <th>SITE_STATE</th>\n",
       "      <th>SITE_ZIP_CODE</th>\n",
       "      <th>SITE_CONG_DISTRICT</th>\n",
       "      <th>SITE_CNTY_NAME</th>\n",
       "      <th>SITE_FIPS_CODE</th>\n",
       "      <th>LATITUDE</th>\n",
       "      <th>LONGITUDE</th>\n",
       "      <th>ALT_AGREEMENT</th>\n",
       "      <th>NPL</th>\n",
       "      <th>FF</th>\n",
       "      <th>NON_NPL_STATUS</th>\n",
       "    </tr>\n",
       "  </thead>\n",
       "  <tbody>\n",
       "    <tr>\n",
       "      <th>0</th>\n",
       "      <td>4</td>\n",
       "      <td>406154</td>\n",
       "      <td>AL0000047829</td>\n",
       "      <td>WEST END LANDFILL</td>\n",
       "      <td>HWY 202 AND ADAMS ST</td>\n",
       "      <td>NaN</td>\n",
       "      <td>ANNISTON</td>\n",
       "      <td>AL</td>\n",
       "      <td>36202</td>\n",
       "      <td>03</td>\n",
       "      <td>CALHOUN</td>\n",
       "      <td>1015.0</td>\n",
       "      <td>NaN</td>\n",
       "      <td>NaN</td>\n",
       "      <td>N</td>\n",
       "      <td>Not on the NPL</td>\n",
       "      <td>N</td>\n",
       "      <td>N</td>\n",
       "    </tr>\n",
       "    <tr>\n",
       "      <th>1</th>\n",
       "      <td>4</td>\n",
       "      <td>406158</td>\n",
       "      <td>AL0000059147</td>\n",
       "      <td>ETOWAH COUNTY (RIDGEVILLE) LANDFILL</td>\n",
       "      <td>NOBLE HILL ROAD</td>\n",
       "      <td>NaN</td>\n",
       "      <td>RIDGEVILLE</td>\n",
       "      <td>AL</td>\n",
       "      <td>35954</td>\n",
       "      <td>04</td>\n",
       "      <td>ETOWAH</td>\n",
       "      <td>1055.0</td>\n",
       "      <td>NaN</td>\n",
       "      <td>NaN</td>\n",
       "      <td>N</td>\n",
       "      <td>Not on the NPL</td>\n",
       "      <td>N</td>\n",
       "      <td>N</td>\n",
       "    </tr>\n",
       "    <tr>\n",
       "      <th>2</th>\n",
       "      <td>4</td>\n",
       "      <td>406176</td>\n",
       "      <td>AL0000132662</td>\n",
       "      <td>FUSSY HILL DRUM DUMP</td>\n",
       "      <td>461 FUSSY HILL ROAD</td>\n",
       "      <td>NaN</td>\n",
       "      <td>NEW MARKET</td>\n",
       "      <td>AL</td>\n",
       "      <td>35761</td>\n",
       "      <td>05</td>\n",
       "      <td>MADISON</td>\n",
       "      <td>1089.0</td>\n",
       "      <td>NaN</td>\n",
       "      <td>NaN</td>\n",
       "      <td>N</td>\n",
       "      <td>Not on the NPL</td>\n",
       "      <td>N</td>\n",
       "      <td>N</td>\n",
       "    </tr>\n",
       "    <tr>\n",
       "      <th>3</th>\n",
       "      <td>4</td>\n",
       "      <td>406800</td>\n",
       "      <td>AL0000301747</td>\n",
       "      <td>JONES PROPERTY</td>\n",
       "      <td>595 GRADY STREET</td>\n",
       "      <td>NaN</td>\n",
       "      <td>MONTGOMERY</td>\n",
       "      <td>AL</td>\n",
       "      <td>36108</td>\n",
       "      <td>NaN</td>\n",
       "      <td>MONTGOMERY</td>\n",
       "      <td>1101.0</td>\n",
       "      <td>NaN</td>\n",
       "      <td>NaN</td>\n",
       "      <td>N</td>\n",
       "      <td>Not on the NPL</td>\n",
       "      <td>N</td>\n",
       "      <td>N</td>\n",
       "    </tr>\n",
       "    <tr>\n",
       "      <th>4</th>\n",
       "      <td>4</td>\n",
       "      <td>406321</td>\n",
       "      <td>AL0001024793</td>\n",
       "      <td>ILCO SATELLITE SITES</td>\n",
       "      <td>INTERSECTION OF HWY 78 AND HWY 411</td>\n",
       "      <td>NaN</td>\n",
       "      <td>LEEDS</td>\n",
       "      <td>AL</td>\n",
       "      <td>35094</td>\n",
       "      <td>06</td>\n",
       "      <td>JEFFERSON</td>\n",
       "      <td>1073.0</td>\n",
       "      <td>NaN</td>\n",
       "      <td>NaN</td>\n",
       "      <td>N</td>\n",
       "      <td>Not on the NPL</td>\n",
       "      <td>N</td>\n",
       "      <td>N</td>\n",
       "    </tr>\n",
       "  </tbody>\n",
       "</table>\n",
       "</div>"
      ],
      "text/plain": [
       "   RG  SITE_ID   SITE_EPA_ID                            SITE_NAME  \\\n",
       "0   4   406154  AL0000047829                    WEST END LANDFILL   \n",
       "1   4   406158  AL0000059147  ETOWAH COUNTY (RIDGEVILLE) LANDFILL   \n",
       "2   4   406176  AL0000132662                 FUSSY HILL DRUM DUMP   \n",
       "3   4   406800  AL0000301747                       JONES PROPERTY   \n",
       "4   4   406321  AL0001024793                 ILCO SATELLITE SITES   \n",
       "\n",
       "                      SITE_STRT_ADRS1 SITE_STRT_ADRS2 SITE_CITY_NAME  \\\n",
       "0                HWY 202 AND ADAMS ST             NaN       ANNISTON   \n",
       "1                     NOBLE HILL ROAD             NaN     RIDGEVILLE   \n",
       "2                 461 FUSSY HILL ROAD             NaN     NEW MARKET   \n",
       "3                    595 GRADY STREET             NaN     MONTGOMERY   \n",
       "4  INTERSECTION OF HWY 78 AND HWY 411             NaN          LEEDS   \n",
       "\n",
       "  SITE_STATE SITE_ZIP_CODE SITE_CONG_DISTRICT SITE_CNTY_NAME  SITE_FIPS_CODE  \\\n",
       "0         AL         36202                 03        CALHOUN          1015.0   \n",
       "1         AL         35954                 04         ETOWAH          1055.0   \n",
       "2         AL         35761                 05        MADISON          1089.0   \n",
       "3         AL         36108                NaN     MONTGOMERY          1101.0   \n",
       "4         AL         35094                 06      JEFFERSON          1073.0   \n",
       "\n",
       "   LATITUDE  LONGITUDE ALT_AGREEMENT             NPL FF NON_NPL_STATUS  \n",
       "0       NaN        NaN             N  Not on the NPL  N              N  \n",
       "1       NaN        NaN             N  Not on the NPL  N              N  \n",
       "2       NaN        NaN             N  Not on the NPL  N              N  \n",
       "3       NaN        NaN             N  Not on the NPL  N              N  \n",
       "4       NaN        NaN             N  Not on the NPL  N              N  "
      ]
     },
     "execution_count": 3,
     "metadata": {},
     "output_type": "execute_result"
    }
   ],
   "source": [
    "superfund_df.head()"
   ]
  },
  {
   "cell_type": "code",
   "execution_count": 4,
   "metadata": {},
   "outputs": [],
   "source": [
    "# Replaces \"%26\" with \"&\"; data from EPA Databases replaces \"&\" with \"%26\"\n",
    "def replace_amp(string):\n",
    "    return string.replace(\"%26\", \"&\")"
   ]
  },
  {
   "cell_type": "code",
   "execution_count": 5,
   "metadata": {
    "scrolled": true
   },
   "outputs": [],
   "source": [
    "# Change Datatypes\n",
    "superfund_df['SITE_STRT_ADRS1'] = superfund_df['SITE_STRT_ADRS1'].astype(str)\n",
    "superfund_df['SITE_CITY_NAME'] = superfund_df['SITE_CITY_NAME'].astype(str)\n",
    "superfund_df['SITE_STATE'] = superfund_df['SITE_STATE'].astype(str)\n",
    "superfund_df['SITE_ZIP_CODE'] = superfund_df['SITE_ZIP_CODE'].astype(str)"
   ]
  },
  {
   "cell_type": "code",
   "execution_count": 6,
   "metadata": {},
   "outputs": [],
   "source": [
    "# Replaces \"%26\" with \"&\"; data from EPA Databases replaces \"&\" with \"%26\"\n",
    "superfund_df['SITE_NAME']=superfund_df['SITE_NAME'].apply(replace_amp)\n",
    "superfund_df['SITE_STRT_ADRS1']=superfund_df['SITE_STRT_ADRS1'].apply(replace_amp)"
   ]
  },
  {
   "cell_type": "code",
   "execution_count": 7,
   "metadata": {},
   "outputs": [],
   "source": [
    "# Create Full Address Column to get lat/longs from\n",
    "superfund_df['FULL_ADDRESS'] = superfund_df['SITE_STRT_ADRS1'] + \", \" + superfund_df['SITE_CITY_NAME'] + \", \" + superfund_df['SITE_STATE'] + \", \" + superfund_df['SITE_ZIP_CODE']"
   ]
  },
  {
   "cell_type": "code",
   "execution_count": 13,
   "metadata": {},
   "outputs": [
    {
     "data": {
      "text/plain": [
       "0                HWY 202 AND ADAMS ST, ANNISTON, AL, 36202\n",
       "1                   NOBLE HILL ROAD, RIDGEVILLE, AL, 35954\n",
       "2               461 FUSSY HILL ROAD, NEW MARKET, AL, 35761\n",
       "3                  595 GRADY STREET, MONTGOMERY, AL, 36108\n",
       "4        INTERSECTION OF HWY 78 AND HWY 411, LEEDS, AL,...\n",
       "                               ...                        \n",
       "13162    Hartville Hwy 270 near the town of Hartville, ...\n",
       "13163    Intersection of Wyoming 487 and Shriley Ridge ...\n",
       "13164    Intersection of W. 5th Street and Thomes Avenu...\n",
       "13165    Yellowstone National Park, TOWER JUNCTION, WY,...\n",
       "13166    FIFTEEN MILES NORTHWEST OF CHEYENNE, CHEYENNE,...\n",
       "Name: FULL_ADDRESS, Length: 13167, dtype: object"
      ]
     },
     "execution_count": 13,
     "metadata": {},
     "output_type": "execute_result"
    }
   ],
   "source": [
    "superfund_df['FULL_ADDRESS']"
   ]
  },
  {
   "cell_type": "code",
   "execution_count": 39,
   "metadata": {},
   "outputs": [],
   "source": [
    "# Returns lat/long from address\n",
    "def lat_long_locator(address):\n",
    "    global counter\n",
    "    try:\n",
    "        geolocator = Nominatim(user_agent=\"my_user_agent\")\n",
    "        location = geolocator.geocode(address)\n",
    "        coords = (location.latitude, location.longitude)\n",
    "        counter += 1\n",
    "        if counter % 1000 == 0:\n",
    "            print(f'{counter} items completed')\n",
    "        return(coords)\n",
    "    except:\n",
    "        counter += 1\n",
    "        if counter % 1000 == 0:\n",
    "            print(f'{counter} items completed')\n",
    "        return(np.NaN)"
   ]
  },
  {
   "cell_type": "code",
   "execution_count": 18,
   "metadata": {},
   "outputs": [
    {
     "data": {
      "text/plain": [
       "(34.843856851295506, -86.42467197859389)"
      ]
     },
     "execution_count": 18,
     "metadata": {},
     "output_type": "execute_result"
    }
   ],
   "source": [
    "lat_long_locator('461 FUSSY HILL ROAD, NEW MARKET, AL, 35761')"
   ]
  },
  {
   "cell_type": "code",
   "execution_count": 46,
   "metadata": {},
   "outputs": [],
   "source": [
    "df_test.drop(columns = \"COORDINATES\", inplace = True)"
   ]
  },
  {
   "cell_type": "code",
   "execution_count": 48,
   "metadata": {
    "scrolled": true
   },
   "outputs": [
    {
     "data": {
      "text/plain": [
       "0                                          NaN\n",
       "1                                          NaN\n",
       "2     (34.843856851295506, -86.42467197859389)\n",
       "3      (32.36915695918368, -86.31928473469388)\n",
       "4                                          NaN\n",
       "5             (32.3747253, -86.31246495527151)\n",
       "6                                          NaN\n",
       "7                                          NaN\n",
       "8                                          NaN\n",
       "9                      (31.193754, -88.173334)\n",
       "10                                         NaN\n",
       "11     (33.11663487815802, -86.85684992008537)\n",
       "12                     (30.668933, -88.046487)\n",
       "13                                         NaN\n",
       "14            (34.6860037, -86.67197170092993)\n",
       "15                                         NaN\n",
       "16     (31.17712633615353, -85.39836949672612)\n",
       "17     (40.69926087903226, -74.09123539112903)\n",
       "18      (32.9466546556476, -85.98235793021082)\n",
       "19                                         NaN\n",
       "20                   (42.9838158, -90.6488432)\n",
       "21                                         NaN\n",
       "22     (33.12339674223665, -85.56451461895666)\n",
       "23                     (34.805014, -87.655966)\n",
       "24                     (32.636301, -85.397363)\n",
       "Name: COORDINATES, dtype: object"
      ]
     },
     "execution_count": 48,
     "metadata": {},
     "output_type": "execute_result"
    }
   ],
   "source": [
    "df_test[\"COORDINATES\"]"
   ]
  },
  {
   "cell_type": "code",
   "execution_count": null,
   "metadata": {},
   "outputs": [],
   "source": [
    "sf_sites_temp = sf_sites_cleaned.copy()\n",
    "sf_sites_temp['SITE_DISTANCE'] = sf_sites_cleaned.apply(distance_calc, axis=1)\n",
    "sf_sites_cleaned = sf_sites_temp.copy()"
   ]
  },
  {
   "cell_type": "code",
   "execution_count": 47,
   "metadata": {
    "scrolled": false
   },
   "outputs": [],
   "source": [
    "counter = 0\n",
    "df_test = superfund_df.iloc[0:25]\n",
    "df_test_temp= df_test.copy()\n",
    "df_test_temp[\"COORDINATES\"] = df_test[\"FULL_ADDRESS\"].apply(lat_long_locator)\n",
    "df_test = df_test_temp.copy()"
   ]
  },
  {
   "cell_type": "code",
   "execution_count": 49,
   "metadata": {},
   "outputs": [
    {
     "name": "stdout",
     "output_type": "stream",
     "text": [
      "1000 items completed\n",
      "2000 items completed\n",
      "3000 items completed\n",
      "4000 items completed\n",
      "5000 items completed\n",
      "6000 items completed\n",
      "7000 items completed\n",
      "8000 items completed\n",
      "9000 items completed\n",
      "10000 items completed\n",
      "11000 items completed\n",
      "12000 items completed\n",
      "13000 items completed\n"
     ]
    }
   ],
   "source": [
    "# Retreiving address for each site\n",
    "# Creating temporary copy of dataframe to avoid \"SettingWithCopy\" warning\n",
    "counter = 0\n",
    "superfund_temp = superfund_df.copy()\n",
    "superfund_temp[\"COORDINATES\"] = superfund_df[\"FULL_ADDRESS\"].apply(lat_long_locator)\n",
    "superfund_df = superfund_temp.copy()"
   ]
  },
  {
   "cell_type": "code",
   "execution_count": 63,
   "metadata": {},
   "outputs": [
    {
     "data": {
      "text/plain": [
       "13167"
      ]
     },
     "execution_count": 63,
     "metadata": {},
     "output_type": "execute_result"
    }
   ],
   "source": [
    "len(superfund_df)"
   ]
  },
  {
   "cell_type": "code",
   "execution_count": 65,
   "metadata": {},
   "outputs": [
    {
     "data": {
      "text/plain": [
       "6516"
      ]
     },
     "execution_count": 65,
     "metadata": {},
     "output_type": "execute_result"
    }
   ],
   "source": [
    "superfund_df[\"COORDINATES\"].count()"
   ]
  },
  {
   "cell_type": "code",
   "execution_count": 66,
   "metadata": {},
   "outputs": [],
   "source": [
    "# Save as CSV with new coords\n",
    "superfund_df.to_csv(\"resources/sf_sites_coords.csv\", index = False)"
   ]
  },
  {
   "cell_type": "code",
   "execution_count": null,
   "metadata": {},
   "outputs": [],
   "source": []
  }
 ],
 "metadata": {
  "kernelspec": {
   "display_name": "PythonData",
   "language": "python",
   "name": "pythondata"
  },
  "language_info": {
   "codemirror_mode": {
    "name": "ipython",
    "version": 3
   },
   "file_extension": ".py",
   "mimetype": "text/x-python",
   "name": "python",
   "nbconvert_exporter": "python",
   "pygments_lexer": "ipython3",
   "version": "3.7.9"
  }
 },
 "nbformat": 4,
 "nbformat_minor": 4
}
